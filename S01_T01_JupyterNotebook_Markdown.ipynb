{
 "cells": [
  {
   "cell_type": "markdown",
   "id": "5ee80ac8",
   "metadata": {},
   "source": [
    "# __S01_T01_JupyterNotebook_Markdown__"
   ]
  },
  {
   "cell_type": "markdown",
   "id": "7527c97e",
   "metadata": {},
   "source": [
    "**Ex2:**_Utilitzant Jupyter Notebook executar càlcuks senzills,i utilitzar Markdown_"
   ]
  },
  {
   "cell_type": "code",
   "execution_count": null,
   "id": "73e20e35",
   "metadata": {},
   "outputs": [],
   "source": [
    "8+4"
   ]
  },
  {
   "cell_type": "code",
   "execution_count": null,
   "id": "c79dcfc5",
   "metadata": {},
   "outputs": [],
   "source": [
    "10*92"
   ]
  },
  {
   "cell_type": "code",
   "execution_count": null,
   "id": "da6936f7",
   "metadata": {},
   "outputs": [],
   "source": [
    "8**2"
   ]
  },
  {
   "cell_type": "code",
   "execution_count": null,
   "id": "a64aee81",
   "metadata": {},
   "outputs": [],
   "source": [
    "120/float(50)"
   ]
  },
  {
   "cell_type": "code",
   "execution_count": null,
   "id": "66387aa6",
   "metadata": {},
   "outputs": [],
   "source": [
    "(8**3)-((6**2)+(5/6))"
   ]
  },
  {
   "cell_type": "code",
   "execution_count": 17,
   "id": "a2835849",
   "metadata": {},
   "outputs": [
    {
     "name": "stdout",
     "output_type": "stream",
     "text": [
      "8\n"
     ]
    }
   ],
   "source": [
    "a = 8\n",
    "print(a)"
   ]
  },
  {
   "cell_type": "code",
   "execution_count": 22,
   "id": "5a84978f",
   "metadata": {},
   "outputs": [
    {
     "data": {
      "text/plain": [
       "'Provem amb strings ara afegim aixo'"
      ]
     },
     "execution_count": 22,
     "metadata": {},
     "output_type": "execute_result"
    }
   ],
   "source": [
    "my_String = \"Provem amb strings\"\n",
    "my_String = my_String + \" ara afegim aixo\"\n",
    "my_String"
   ]
  },
  {
   "cell_type": "code",
   "execution_count": 23,
   "id": "9d00168e",
   "metadata": {},
   "outputs": [
    {
     "data": {
      "text/plain": [
       "34"
      ]
     },
     "execution_count": 23,
     "metadata": {},
     "output_type": "execute_result"
    }
   ],
   "source": [
    "len(my_String)"
   ]
  },
  {
   "cell_type": "markdown",
   "id": "d912f553",
   "metadata": {},
   "source": [
    "**Ex3:** _Crear títols, llistes, canviar estil de lletra i afegir imatges dins del Notebook_"
   ]
  },
  {
   "cell_type": "markdown",
   "id": "ce3942ef",
   "metadata": {},
   "source": [
    "# Creem Llista1"
   ]
  },
  {
   "cell_type": "markdown",
   "id": "d357e336",
   "metadata": {},
   "source": [
    "1.Imatge python:\n",
    "\n",
    "    1.1 Introducció\n",
    "    1.2 Descripció\n",
    "    1.3 Resultat\n",
    "    \n",
    "2.Imatge Jupyter Notebook\n",
    "    "
   ]
  },
  {
   "cell_type": "code",
   "execution_count": 19,
   "id": "925ade9f",
   "metadata": {},
   "outputs": [
    {
     "data": {
      "image/png": "[encoded data removed]",
      "text/plain": [
       "<IPython.core.display.Image object>"
      ]
     },
     "execution_count": 19,
     "metadata": {},
     "output_type": "execute_result"
    }
   ],
   "source": [
    "from IPython import display\n",
    "display.Image(\"C:/Users/Beth/Desktop/logopyth.png\")"
   ]
  },
  {
   "cell_type": "markdown",
   "id": "b527058a",
   "metadata": {},
   "source": []
  },
  {
   "cell_type": "code",
   "execution_count": null,
   "id": "74c3d4e2",
   "metadata": {},
   "outputs": [],
   "source": []
  }
 ],
 "metadata": {
  "kernelspec": {
   "display_name": "Python 3 (ipykernel)",
   "language": "python",
   "name": "python3"
  },
  "language_info": {
   "codemirror_mode": {
    "name": "ipython",
    "version": 3
   },
   "file_extension": ".py",
   "mimetype": "text/x-python",
   "name": "python",
   "nbconvert_exporter": "python",
   "pygments_lexer": "ipython3",
   "version": "3.9.7"
  },
  "latex_envs": {
   "LaTeX_envs_menu_present": true,
   "autoclose": false,
   "autocomplete": true,
   "bibliofile": "biblio.bib",
   "cite_by": "apalike",
   "current_citInitial": 1,
   "eqLabelWithNumbers": true,
   "eqNumInitial": 1,
   "hotkeys": {
    "equation": "Ctrl-E",
    "itemize": "Ctrl-I"
   },
   "labels_anchors": false,
   "latex_user_defs": false,
   "report_style_numbering": false,
   "user_envs_cfg": false
  }
 },
 "nbformat": 4,
 "nbformat_minor": 5
}
